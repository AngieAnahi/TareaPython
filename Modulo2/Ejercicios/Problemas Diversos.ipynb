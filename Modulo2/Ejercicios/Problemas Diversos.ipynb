{
 "cells": [
  {
   "cell_type": "markdown",
   "metadata": {},
   "source": [
    "# PROBLEMAS DIVERSOS"
   ]
  },
  {
   "cell_type": "code",
   "execution_count": 62,
   "metadata": {},
   "outputs": [],
   "source": [
    "def cantidad():\n",
    "    n=int(input(\"Ingrese cantidad de alumnos:\"))\n",
    "    print (n)\n",
    "    return n\n",
    "\n",
    "def nota():\n",
    "    nota = float(input(\"Introduce la nota(0 - 10): \"))\n",
    "    return nota\n",
    "\n",
    "def validar_nota(nota):\n",
    "    try:\n",
    "        c=nota()\n",
    "        if c >=0 and c <= 10:\n",
    "            return c  # Importante romper la iteración si todo ha salido bien\n",
    "        else:\n",
    "            print('nota fuera del rango')\n",
    "            print(\"Ingrese nota nuevamente:\")\n",
    "            na = float(input(\"Introduce la nota(0 - 10): \"))\n",
    "            return na\n",
    "\n",
    "    except:\n",
    "        print(\"Ha ocurrido un error, introduce bien la nota\")\n",
    "\n",
    "def ingresar_alumnos(n):\n",
    "    promedio=0\n",
    "    aprobados=0\n",
    "    desaprobados=0\n",
    "    total = 0\n",
    "    lista_alumnos = []\n",
    "    lista =[]\n",
    "    for i in range (n):\n",
    "        alumno ={}\n",
    "        nom = input(\"Ingrese el nombre del alumno {}:\".format(i+1))\n",
    "        alumno['nombre']=nom\n",
    "        alumno['nota1']=validar_nota(nota)\n",
    "        alumno['nota2']=validar_nota(nota)\n",
    "        alumno['nota3']=validar_nota(nota)\n",
    "        alumno['prom']=round(((alumno['nota1']+alumno['nota2']+alumno['nota3'])/3),2)\n",
    "        promedio = alumno['prom']\n",
    "        dato = str(promedio) + \", corresponde al alumno: \" + nom\n",
    "        if promedio>=4:\n",
    "            alumno['estado']=\"aprobado\"\n",
    "            aprobados+=1\n",
    "            total+=promedio\n",
    "        else:\n",
    "            alumno['estado']=\"desaprobado\"\n",
    "            desaprobados+=1\n",
    "            total+=promedio\n",
    "            # agregando alumno a lista alumnos\n",
    "        lista_alumnos.append(alumno)\n",
    "        lista.append(dato)\n",
    "    print(lista_alumnos)\n",
    "    return (aprobados,desaprobados,total,n,lista)\n",
    "    \n",
    "def imprimir(x,y,z,n,lista):\n",
    "    prom_cur=round(float(z/n),2)\n",
    "    print (\"La cantidad de aprobados son: {} \\nLa cantidad de desaprobados son: {} \\nEl promedio total del curso es: {} \".format(x,y,prom_cur))\n",
    "    return lista\n",
    "\n",
    "    \n",
    "def promedios (lista):\n",
    "    lista.sort() #se ordena la lista\n",
    "    print('El Máximo Promedio es:',lista[-1])\n",
    "    print('El Mínimo Promedio es:',lista[0])"
   ]
  },
  {
   "cell_type": "markdown",
   "metadata": {},
   "source": [
    "<h3>1.</h3>\n",
    "Realizar una función que permita la carga de n alumnos. Por cada alumno se deberá preguntar el nombre completo y permitir el ingreso de 3 notas. Las notas deben estar comprendidas entre 0 y 10. Devolver el listado de alumnos."
   ]
  },
  {
   "cell_type": "code",
   "execution_count": 63,
   "metadata": {},
   "outputs": [
    {
     "name": "stdin",
     "output_type": "stream",
     "text": [
      "Ingrese cantidad de alumnos: 4\n"
     ]
    },
    {
     "name": "stdout",
     "output_type": "stream",
     "text": [
      "4\n"
     ]
    },
    {
     "name": "stdin",
     "output_type": "stream",
     "text": [
      "Ingrese el nombre del alumno 1: Angie\n",
      "Introduce la nota(0 - 10):  7\n",
      "Introduce la nota(0 - 10):  5\n",
      "Introduce la nota(0 - 10):  6\n",
      "Ingrese el nombre del alumno 2: Andrea\n",
      "Introduce la nota(0 - 10):  9\n",
      "Introduce la nota(0 - 10):  4\n",
      "Introduce la nota(0 - 10):  6\n",
      "Ingrese el nombre del alumno 3: Juan\n",
      "Introduce la nota(0 - 10):  3\n",
      "Introduce la nota(0 - 10):  4\n",
      "Introduce la nota(0 - 10):  5\n",
      "Ingrese el nombre del alumno 4: Saul\n",
      "Introduce la nota(0 - 10):  2\n",
      "Introduce la nota(0 - 10):  3\n",
      "Introduce la nota(0 - 10):  2\n"
     ]
    },
    {
     "name": "stdout",
     "output_type": "stream",
     "text": [
      "[{'nombre': 'Angie', 'nota1': 7.0, 'nota2': 5.0, 'nota3': 6.0, 'prom': 6.0, 'estado': 'aprobado'}, {'nombre': 'Andrea', 'nota1': 9.0, 'nota2': 4.0, 'nota3': 6.0, 'prom': 6.33, 'estado': 'aprobado'}, {'nombre': 'Juan', 'nota1': 3.0, 'nota2': 4.0, 'nota3': 5.0, 'prom': 4.0, 'estado': 'aprobado'}, {'nombre': 'Saul', 'nota1': 2.0, 'nota2': 3.0, 'nota3': 2.0, 'prom': 2.33, 'estado': 'desaprobado'}]\n"
     ]
    }
   ],
   "source": [
    "n=cantidad()\n",
    "aprobados,desaprobados,total,n,lista=ingresar_alumnos(n)\n",
    "\n"
   ]
  },
  {
   "cell_type": "markdown",
   "metadata": {},
   "source": [
    "### 2. y 3.\n",
    "*Definir una función que dado un listado de alumnos evalúe cuántos aprobaron y cuántos desaprobaron, teniendo en cuenta que se aprueba con 4. La nota será el promedio de las 3 notas para cada alumno."
   ]
  },
  {
   "cell_type": "markdown",
   "metadata": {},
   "source": [
    "Informar el promedio de nota del curso total."
   ]
  },
  {
   "cell_type": "code",
   "execution_count": 65,
   "metadata": {},
   "outputs": [
    {
     "name": "stdout",
     "output_type": "stream",
     "text": [
      "La cantidad de aprobados son: 3 \n",
      "La cantidad de desaprobados son: 1 \n",
      "El promedio total del curso es: 4.66 \n"
     ]
    }
   ],
   "source": [
    "lista=imprimir(aprobados,desaprobados,total,n,lista)"
   ]
  },
  {
   "cell_type": "markdown",
   "metadata": {},
   "source": [
    "### 4.\n",
    "Realizar una función que indique quién tuvo el promedio más alto y quién tuvo la nota promedio más baja."
   ]
  },
  {
   "cell_type": "code",
   "execution_count": 66,
   "metadata": {},
   "outputs": [
    {
     "name": "stdout",
     "output_type": "stream",
     "text": [
      "El Máximo Promedio es: 6.33, corresponde al alumno: Andrea\n",
      "El Mínimo Promedio es: 2.33, corresponde al alumno: Saul\n"
     ]
    }
   ],
   "source": [
    "promedios (lista)"
   ]
  },
  {
   "cell_type": "markdown",
   "metadata": {},
   "source": [
    "### 5.\n",
    "Realizar una función que permita buscar un alumno por nombre, siendo el nombre completo o parcial, y devuelva una lista con los n alumnos que concuerden con ese nombre junto con todos sus datos, incluido el promedio de sus notas."
   ]
  },
  {
   "cell_type": "code",
   "execution_count": null,
   "metadata": {},
   "outputs": [],
   "source": []
  }
 ],
 "metadata": {
  "kernelspec": {
   "display_name": "Python 3",
   "language": "python",
   "name": "python3"
  },
  "language_info": {
   "codemirror_mode": {
    "name": "ipython",
    "version": 3
   },
   "file_extension": ".py",
   "mimetype": "text/x-python",
   "name": "python",
   "nbconvert_exporter": "python",
   "pygments_lexer": "ipython3",
   "version": "3.8.5"
  }
 },
 "nbformat": 4,
 "nbformat_minor": 4
}
