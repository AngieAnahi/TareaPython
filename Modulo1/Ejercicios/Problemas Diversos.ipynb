{
 "cells": [
  {
   "cell_type": "markdown",
   "metadata": {},
   "source": [
    "# PROBLEMAS DIVERSOS"
   ]
  },
  {
   "cell_type": "markdown",
   "metadata": {},
   "source": [
    "<h3>1.</h3>\n",
    "Imagina que acabas de abrir una nueva cuenta de ahorros que te ofrece el 4% de interés al año. Estos ahorros debido a intereses, que no se cobran hasta finales de año, se te añaden al balance final de tu cuenta de ahorros. Escribir un programa que comience leyendo la cantidad de dinero depositada en la cuenta de ahorros, introducida por el usuario. Después el programa debe calcular y mostrar por pantalla la cantidad de ahorros tras el primer, segundo y tercer años. Redondear cada cantidad a dos decimales."
   ]
  },
  {
   "cell_type": "code",
   "execution_count": 1,
   "metadata": {},
   "outputs": [
    {
     "name": "stdout",
     "output_type": "stream",
     "text": [
      "Ejercicio 1 - Problemas diversos:\n"
     ]
    },
    {
     "name": "stdin",
     "output_type": "stream",
     "text": [
      "Ingrese cantidad a ahorrar: 200\n"
     ]
    },
    {
     "name": "stdout",
     "output_type": "stream",
     "text": [
      "La cantidad ahorrada en el 1er año es: 208.0\n",
      "La cantidad ahorrada en el 2do año es: 216.32\n",
      "La cantidad ahorrada en el 3er año es: 224.97\n"
     ]
    }
   ],
   "source": [
    "print(\"Ejercicio 1 - Problemas diversos:\")\n",
    "m = float (input(\"Ingrese cantidad a ahorrar:\"))\n",
    "c = (m * 0.04)+m\n",
    "c2 = (c * 0.04)+c\n",
    "c3 = (c2 * 0.04)+c2\n",
    "print (\"La cantidad ahorrada en el 1er año es:\", round (c,2))\n",
    "print (\"La cantidad ahorrada en el 2do año es:\", round (c2,2))\n",
    "print (\"La cantidad ahorrada en el 3er año es:\", round (c3,2))"
   ]
  },
  {
   "cell_type": "markdown",
   "metadata": {},
   "source": [
    "### 2.\n",
    "Escriba un programa que pida los coeficientes de una ecuación de segundo grado <code>(a x² + b x + c = 0)</code> y escriba la solución.\n",
    "\n",
    "Se recuerda que una ecuación de segundo grado puede no tener solución, tener una solución única, tener dos soluciones o que todos los números sean solución."
   ]
  },
  {
   "cell_type": "markdown",
   "metadata": {},
   "source": [
    "<img src='https://i.pinimg.com/originals/d3/f7/01/d3f701528ad56ce0f5a98d7c91722fd7.png'>"
   ]
  },
  {
   "cell_type": "markdown",
   "metadata": {},
   "source": [
    "Su programa debe indicar:\n",
    "- En caso la ecuación cuadrática tenga solución real, su programa debe brindar la solución\n",
    "- En caso su ecuación no tenga solución real, su programa debe brindar un mensaje que diga \"Ecuación no presenta solución real\""
   ]
  },
  {
   "cell_type": "code",
   "execution_count": 3,
   "metadata": {},
   "outputs": [
    {
     "name": "stdout",
     "output_type": "stream",
     "text": [
      "Ejercicio 2 - Problemas diversos:\n"
     ]
    },
    {
     "name": "stdin",
     "output_type": "stream",
     "text": [
      "Ingrese el coeficiente de la variable cuadrática\n",
      " 2\n",
      "Ingrese el coeficiente de la variable lineal\n",
      " 1\n",
      "Ingrese el término independiente\n",
      " 5\n"
     ]
    },
    {
     "name": "stdout",
     "output_type": "stream",
     "text": [
      "El discriminante es: -39\n",
      "No tiene solución real\n"
     ]
    }
   ],
   "source": [
    "from math import sqrt\n",
    "print(\"Ejercicio 2 - Problemas diversos:\")\n",
    "A = int(input(\"Ingrese el coeficiente de la variable cuadrática\\n\"))\n",
    "B = int(input(\"Ingrese el coeficiente de la variable lineal\\n\"))\n",
    "C = int(input(\"Ingrese el término independiente\\n\"))\n",
    "discriminante = (B**2)-(4*A*C)\n",
    "\n",
    "if (discriminante) < 0:\n",
    "    print (\"El discriminante es:\", discriminante)\n",
    "    print(\"No tiene solución real\")\n",
    "else:\n",
    "    print (\"El discriminante es:\", discriminante)\n",
    "    x1 = (-B+sqrt(B**2-(4*A*C)))/(2*A)\n",
    "    x2 = (-B-sqrt(B**2-(4*A*C)))/(2*A)\n",
    "    print(\"Las soluciones de la ecuación son:\")\n",
    "    print(x1)\n",
    "    print(x2)"
   ]
  },
  {
   "cell_type": "code",
   "execution_count": null,
   "metadata": {},
   "outputs": [],
   "source": []
  }
 ],
 "metadata": {
  "kernelspec": {
   "display_name": "Python 3",
   "language": "python",
   "name": "python3"
  },
  "language_info": {
   "codemirror_mode": {
    "name": "ipython",
    "version": 3
   },
   "file_extension": ".py",
   "mimetype": "text/x-python",
   "name": "python",
   "nbconvert_exporter": "python",
   "pygments_lexer": "ipython3",
   "version": "3.8.5"
  }
 },
 "nbformat": 4,
 "nbformat_minor": 4
}
